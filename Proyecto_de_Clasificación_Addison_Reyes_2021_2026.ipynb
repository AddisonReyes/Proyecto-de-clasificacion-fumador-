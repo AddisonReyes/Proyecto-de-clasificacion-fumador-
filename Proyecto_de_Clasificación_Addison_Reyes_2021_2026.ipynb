{
  "nbformat": 4,
  "nbformat_minor": 0,
  "metadata": {
    "colab": {
      "provenance": []
    },
    "kernelspec": {
      "name": "python3",
      "display_name": "Python 3"
    },
    "language_info": {
      "name": "python"
    }
  },
  "cells": [
    {
      "cell_type": "markdown",
      "source": [
        "# Librerias"
      ],
      "metadata": {
        "id": "9RTN57B4RAhE"
      }
    },
    {
      "cell_type": "code",
      "source": [
        "pip -q install sklearn"
      ],
      "metadata": {
        "id": "x2C9lsBZTQ5_"
      },
      "execution_count": 37,
      "outputs": []
    },
    {
      "cell_type": "code",
      "source": [
        "pip -q install dataprep"
      ],
      "metadata": {
        "id": "ny99DiPQb5Yi"
      },
      "execution_count": 38,
      "outputs": []
    },
    {
      "cell_type": "code",
      "source": [
        "from sklearn.model_selection import train_test_split, cross_val_score\n",
        "from sklearn.preprocessing import OneHotEncoder, StandardScaler\n",
        "from sklearn.feature_extraction.text import TfidfVectorizer\n",
        "from sklearn.linear_model import LogisticRegression\n",
        "from sklearn.ensemble import RandomForestClassifier\n",
        "from sklearn.compose import make_column_transformer\n",
        "from sklearn.neighbors import KNeighborsClassifier\n",
        "from sklearn.metrics import classification_report\n",
        "from sklearn.neural_network import MLPClassifier\n",
        "from sklearn.naive_bayes import MultinomialNB\n",
        "from sklearn.metrics import confusion_matrix\n",
        "from pandas.core.common import random_state\n",
        "from sklearn.naive_bayes import GaussianNB\n",
        "from sklearn.metrics import accuracy_score\n",
        "from sklearn.pipeline import make_pipeline\n",
        "from dataprep.eda import create_report\n",
        "from sklearn.utils import resample\n",
        "import matplotlib.pyplot as plt\n",
        "from sklearn import svm\n",
        "import pandas as pd\n",
        "import numpy as np\n",
        "import pickle"
      ],
      "metadata": {
        "id": "XFp4IITAC3cr"
      },
      "execution_count": 39,
      "outputs": []
    },
    {
      "cell_type": "markdown",
      "source": [
        "# 1 - Recoleccion de data"
      ],
      "metadata": {
        "id": "4nHWzI1gRu56"
      }
    },
    {
      "cell_type": "code",
      "execution_count": 40,
      "metadata": {
        "colab": {
          "base_uri": "https://localhost:8080/",
          "height": 317
        },
        "id": "CtDHJXdYCoQP",
        "outputId": "ec48810f-95a3-4e50-b9a0-a13e07d92490"
      },
      "outputs": [
        {
          "output_type": "execute_result",
          "data": {
            "text/plain": [
              "   age  height(cm)  weight(kg)  waist(cm)  eyesight(left)  eyesight(right)  \\\n",
              "0   35         170          85       97.0             0.9              0.9   \n",
              "1   20         175         110      110.0             0.7              0.9   \n",
              "2   45         155          65       86.0             0.9              0.9   \n",
              "3   45         165          80       94.0             0.8              0.7   \n",
              "4   20         165          60       81.0             1.5              0.1   \n",
              "\n",
              "   hearing(left)  hearing(right)  systolic  relaxation  ...  HDL  LDL  \\\n",
              "0              1               1       118          78  ...   70  142   \n",
              "1              1               1       119          79  ...   71  114   \n",
              "2              1               1       110          80  ...   57  112   \n",
              "3              1               1       158          88  ...   46   91   \n",
              "4              1               1       109          64  ...   47   92   \n",
              "\n",
              "   hemoglobin  Urine protein  serum creatinine   AST   ALT  Gtp  \\\n",
              "0        19.8              1               1.0    61   115  125   \n",
              "1        15.9              1               1.1    19    25   30   \n",
              "2        13.7              3               0.6  1090  1400  276   \n",
              "3        16.9              1               0.9    32    36   36   \n",
              "4        14.9              1               1.2    26    28   15   \n",
              "\n",
              "   dental caries  smoking  \n",
              "0              1        1  \n",
              "1              1        0  \n",
              "2              0        0  \n",
              "3              0        0  \n",
              "4              0        0  \n",
              "\n",
              "[5 rows x 23 columns]"
            ],
            "text/html": [
              "\n",
              "  <div id=\"df-c0655bff-6a2f-4161-b6cc-bbeb064ce815\">\n",
              "    <div class=\"colab-df-container\">\n",
              "      <div>\n",
              "<style scoped>\n",
              "    .dataframe tbody tr th:only-of-type {\n",
              "        vertical-align: middle;\n",
              "    }\n",
              "\n",
              "    .dataframe tbody tr th {\n",
              "        vertical-align: top;\n",
              "    }\n",
              "\n",
              "    .dataframe thead th {\n",
              "        text-align: right;\n",
              "    }\n",
              "</style>\n",
              "<table border=\"1\" class=\"dataframe\">\n",
              "  <thead>\n",
              "    <tr style=\"text-align: right;\">\n",
              "      <th></th>\n",
              "      <th>age</th>\n",
              "      <th>height(cm)</th>\n",
              "      <th>weight(kg)</th>\n",
              "      <th>waist(cm)</th>\n",
              "      <th>eyesight(left)</th>\n",
              "      <th>eyesight(right)</th>\n",
              "      <th>hearing(left)</th>\n",
              "      <th>hearing(right)</th>\n",
              "      <th>systolic</th>\n",
              "      <th>relaxation</th>\n",
              "      <th>...</th>\n",
              "      <th>HDL</th>\n",
              "      <th>LDL</th>\n",
              "      <th>hemoglobin</th>\n",
              "      <th>Urine protein</th>\n",
              "      <th>serum creatinine</th>\n",
              "      <th>AST</th>\n",
              "      <th>ALT</th>\n",
              "      <th>Gtp</th>\n",
              "      <th>dental caries</th>\n",
              "      <th>smoking</th>\n",
              "    </tr>\n",
              "  </thead>\n",
              "  <tbody>\n",
              "    <tr>\n",
              "      <th>0</th>\n",
              "      <td>35</td>\n",
              "      <td>170</td>\n",
              "      <td>85</td>\n",
              "      <td>97.0</td>\n",
              "      <td>0.9</td>\n",
              "      <td>0.9</td>\n",
              "      <td>1</td>\n",
              "      <td>1</td>\n",
              "      <td>118</td>\n",
              "      <td>78</td>\n",
              "      <td>...</td>\n",
              "      <td>70</td>\n",
              "      <td>142</td>\n",
              "      <td>19.8</td>\n",
              "      <td>1</td>\n",
              "      <td>1.0</td>\n",
              "      <td>61</td>\n",
              "      <td>115</td>\n",
              "      <td>125</td>\n",
              "      <td>1</td>\n",
              "      <td>1</td>\n",
              "    </tr>\n",
              "    <tr>\n",
              "      <th>1</th>\n",
              "      <td>20</td>\n",
              "      <td>175</td>\n",
              "      <td>110</td>\n",
              "      <td>110.0</td>\n",
              "      <td>0.7</td>\n",
              "      <td>0.9</td>\n",
              "      <td>1</td>\n",
              "      <td>1</td>\n",
              "      <td>119</td>\n",
              "      <td>79</td>\n",
              "      <td>...</td>\n",
              "      <td>71</td>\n",
              "      <td>114</td>\n",
              "      <td>15.9</td>\n",
              "      <td>1</td>\n",
              "      <td>1.1</td>\n",
              "      <td>19</td>\n",
              "      <td>25</td>\n",
              "      <td>30</td>\n",
              "      <td>1</td>\n",
              "      <td>0</td>\n",
              "    </tr>\n",
              "    <tr>\n",
              "      <th>2</th>\n",
              "      <td>45</td>\n",
              "      <td>155</td>\n",
              "      <td>65</td>\n",
              "      <td>86.0</td>\n",
              "      <td>0.9</td>\n",
              "      <td>0.9</td>\n",
              "      <td>1</td>\n",
              "      <td>1</td>\n",
              "      <td>110</td>\n",
              "      <td>80</td>\n",
              "      <td>...</td>\n",
              "      <td>57</td>\n",
              "      <td>112</td>\n",
              "      <td>13.7</td>\n",
              "      <td>3</td>\n",
              "      <td>0.6</td>\n",
              "      <td>1090</td>\n",
              "      <td>1400</td>\n",
              "      <td>276</td>\n",
              "      <td>0</td>\n",
              "      <td>0</td>\n",
              "    </tr>\n",
              "    <tr>\n",
              "      <th>3</th>\n",
              "      <td>45</td>\n",
              "      <td>165</td>\n",
              "      <td>80</td>\n",
              "      <td>94.0</td>\n",
              "      <td>0.8</td>\n",
              "      <td>0.7</td>\n",
              "      <td>1</td>\n",
              "      <td>1</td>\n",
              "      <td>158</td>\n",
              "      <td>88</td>\n",
              "      <td>...</td>\n",
              "      <td>46</td>\n",
              "      <td>91</td>\n",
              "      <td>16.9</td>\n",
              "      <td>1</td>\n",
              "      <td>0.9</td>\n",
              "      <td>32</td>\n",
              "      <td>36</td>\n",
              "      <td>36</td>\n",
              "      <td>0</td>\n",
              "      <td>0</td>\n",
              "    </tr>\n",
              "    <tr>\n",
              "      <th>4</th>\n",
              "      <td>20</td>\n",
              "      <td>165</td>\n",
              "      <td>60</td>\n",
              "      <td>81.0</td>\n",
              "      <td>1.5</td>\n",
              "      <td>0.1</td>\n",
              "      <td>1</td>\n",
              "      <td>1</td>\n",
              "      <td>109</td>\n",
              "      <td>64</td>\n",
              "      <td>...</td>\n",
              "      <td>47</td>\n",
              "      <td>92</td>\n",
              "      <td>14.9</td>\n",
              "      <td>1</td>\n",
              "      <td>1.2</td>\n",
              "      <td>26</td>\n",
              "      <td>28</td>\n",
              "      <td>15</td>\n",
              "      <td>0</td>\n",
              "      <td>0</td>\n",
              "    </tr>\n",
              "  </tbody>\n",
              "</table>\n",
              "<p>5 rows × 23 columns</p>\n",
              "</div>\n",
              "      <button class=\"colab-df-convert\" onclick=\"convertToInteractive('df-c0655bff-6a2f-4161-b6cc-bbeb064ce815')\"\n",
              "              title=\"Convert this dataframe to an interactive table.\"\n",
              "              style=\"display:none;\">\n",
              "        \n",
              "  <svg xmlns=\"http://www.w3.org/2000/svg\" height=\"24px\"viewBox=\"0 0 24 24\"\n",
              "       width=\"24px\">\n",
              "    <path d=\"M0 0h24v24H0V0z\" fill=\"none\"/>\n",
              "    <path d=\"M18.56 5.44l.94 2.06.94-2.06 2.06-.94-2.06-.94-.94-2.06-.94 2.06-2.06.94zm-11 1L8.5 8.5l.94-2.06 2.06-.94-2.06-.94L8.5 2.5l-.94 2.06-2.06.94zm10 10l.94 2.06.94-2.06 2.06-.94-2.06-.94-.94-2.06-.94 2.06-2.06.94z\"/><path d=\"M17.41 7.96l-1.37-1.37c-.4-.4-.92-.59-1.43-.59-.52 0-1.04.2-1.43.59L10.3 9.45l-7.72 7.72c-.78.78-.78 2.05 0 2.83L4 21.41c.39.39.9.59 1.41.59.51 0 1.02-.2 1.41-.59l7.78-7.78 2.81-2.81c.8-.78.8-2.07 0-2.86zM5.41 20L4 18.59l7.72-7.72 1.47 1.35L5.41 20z\"/>\n",
              "  </svg>\n",
              "      </button>\n",
              "      \n",
              "  <style>\n",
              "    .colab-df-container {\n",
              "      display:flex;\n",
              "      flex-wrap:wrap;\n",
              "      gap: 12px;\n",
              "    }\n",
              "\n",
              "    .colab-df-convert {\n",
              "      background-color: #E8F0FE;\n",
              "      border: none;\n",
              "      border-radius: 50%;\n",
              "      cursor: pointer;\n",
              "      display: none;\n",
              "      fill: #1967D2;\n",
              "      height: 32px;\n",
              "      padding: 0 0 0 0;\n",
              "      width: 32px;\n",
              "    }\n",
              "\n",
              "    .colab-df-convert:hover {\n",
              "      background-color: #E2EBFA;\n",
              "      box-shadow: 0px 1px 2px rgba(60, 64, 67, 0.3), 0px 1px 3px 1px rgba(60, 64, 67, 0.15);\n",
              "      fill: #174EA6;\n",
              "    }\n",
              "\n",
              "    [theme=dark] .colab-df-convert {\n",
              "      background-color: #3B4455;\n",
              "      fill: #D2E3FC;\n",
              "    }\n",
              "\n",
              "    [theme=dark] .colab-df-convert:hover {\n",
              "      background-color: #434B5C;\n",
              "      box-shadow: 0px 1px 3px 1px rgba(0, 0, 0, 0.15);\n",
              "      filter: drop-shadow(0px 1px 2px rgba(0, 0, 0, 0.3));\n",
              "      fill: #FFFFFF;\n",
              "    }\n",
              "  </style>\n",
              "\n",
              "      <script>\n",
              "        const buttonEl =\n",
              "          document.querySelector('#df-c0655bff-6a2f-4161-b6cc-bbeb064ce815 button.colab-df-convert');\n",
              "        buttonEl.style.display =\n",
              "          google.colab.kernel.accessAllowed ? 'block' : 'none';\n",
              "\n",
              "        async function convertToInteractive(key) {\n",
              "          const element = document.querySelector('#df-c0655bff-6a2f-4161-b6cc-bbeb064ce815');\n",
              "          const dataTable =\n",
              "            await google.colab.kernel.invokeFunction('convertToInteractive',\n",
              "                                                     [key], {});\n",
              "          if (!dataTable) return;\n",
              "\n",
              "          const docLinkHtml = 'Like what you see? Visit the ' +\n",
              "            '<a target=\"_blank\" href=https://colab.research.google.com/notebooks/data_table.ipynb>data table notebook</a>'\n",
              "            + ' to learn more about interactive tables.';\n",
              "          element.innerHTML = '';\n",
              "          dataTable['output_type'] = 'display_data';\n",
              "          await google.colab.output.renderOutput(dataTable, element);\n",
              "          const docLink = document.createElement('div');\n",
              "          docLink.innerHTML = docLinkHtml;\n",
              "          element.appendChild(docLink);\n",
              "        }\n",
              "      </script>\n",
              "    </div>\n",
              "  </div>\n",
              "  "
            ]
          },
          "metadata": {},
          "execution_count": 40
        }
      ],
      "source": [
        "#https://www.kaggle.com/datasets/gauravduttakiit/smoker-status-prediction?select=train_dataset.csv\n",
        "df = pd.read_csv(\"/content/train_dataset.csv\")\n",
        "df.head(5)"
      ]
    },
    {
      "cell_type": "markdown",
      "source": [
        "# 2 - Preparacion de la data / Preprocesamiento de la data"
      ],
      "metadata": {
        "id": "d-YqLLXGR4Ne"
      }
    },
    {
      "cell_type": "code",
      "source": [
        "df.drop(['waist(cm)', 'eyesight(left)', 'eyesight(right)', 'hearing(left)', 'hearing(right)'], axis=1, inplace=True)\n",
        "\n",
        "df = df.rename(columns={'height(cm)':'height', 'weight(kg)':'weight', 'fasting blood sugar':'sugar',\n",
        "       'Urine protein':'UrineProtein', 'serum creatinine':'Creatinine', 'dental caries':'Caries'})"
      ],
      "metadata": {
        "id": "0KOXGZ-h_ckP"
      },
      "execution_count": 41,
      "outputs": []
    },
    {
      "cell_type": "code",
      "source": [
        "df.isna().any()"
      ],
      "metadata": {
        "colab": {
          "base_uri": "https://localhost:8080/"
        },
        "id": "O939IP_ySh2Z",
        "outputId": "c87f84d4-d987-4190-f8a6-d9673f034a1a"
      },
      "execution_count": 42,
      "outputs": [
        {
          "output_type": "execute_result",
          "data": {
            "text/plain": [
              "age             False\n",
              "height          False\n",
              "weight          False\n",
              "systolic        False\n",
              "relaxation      False\n",
              "sugar           False\n",
              "Cholesterol     False\n",
              "triglyceride    False\n",
              "HDL             False\n",
              "LDL             False\n",
              "hemoglobin      False\n",
              "UrineProtein    False\n",
              "Creatinine      False\n",
              "AST             False\n",
              "ALT             False\n",
              "Gtp             False\n",
              "Caries          False\n",
              "smoking         False\n",
              "dtype: bool"
            ]
          },
          "metadata": {},
          "execution_count": 42
        }
      ]
    },
    {
      "cell_type": "code",
      "source": [
        "df['smoking'].value_counts()"
      ],
      "metadata": {
        "colab": {
          "base_uri": "https://localhost:8080/"
        },
        "id": "9xRmX3o_Y8wT",
        "outputId": "29bf85c1-71eb-4f6a-bb27-c7bef27d97cb"
      },
      "execution_count": 43,
      "outputs": [
        {
          "output_type": "execute_result",
          "data": {
            "text/plain": [
              "0    24666\n",
              "1    14318\n",
              "Name: smoking, dtype: int64"
            ]
          },
          "metadata": {},
          "execution_count": 43
        }
      ]
    },
    {
      "cell_type": "code",
      "source": [
        "no_fumador = resample(df[df['smoking'] == 0], replace=False, random_state=2, n_samples=10000)\n",
        "fumador = resample(df[df['smoking'] == 1], replace=False, random_state=2, n_samples=10000)\n",
        "\n",
        "df = pd.concat([no_fumador, fumador])\n",
        "\n",
        "df.head(5)"
      ],
      "metadata": {
        "id": "Zc3KXSt5ZlBR",
        "colab": {
          "base_uri": "https://localhost:8080/",
          "height": 206
        },
        "outputId": "d19e0d4e-3116-487a-dc64-2e571ba989ea"
      },
      "execution_count": 44,
      "outputs": [
        {
          "output_type": "execute_result",
          "data": {
            "text/plain": [
              "       age  height  weight  systolic  relaxation  sugar  Cholesterol  \\\n",
              "34126   50     160      60       119          70    103          223   \n",
              "32637   55     155      50        92          61     91          189   \n",
              "27570   45     165      65       140          89    129          150   \n",
              "15714   40     155      65       142          89     98          199   \n",
              "24697   40     155      50       120          90     97          244   \n",
              "\n",
              "       triglyceride  HDL  LDL  hemoglobin  UrineProtein  Creatinine  AST  ALT  \\\n",
              "34126            94   64  140        13.8             1         0.7   20   14   \n",
              "32637            51   64  115        13.2             3         0.9   19   12   \n",
              "27570            91   55   77        16.9             1         0.8  182  311   \n",
              "15714            74   59  125        14.3             1         0.5   15   15   \n",
              "24697           141   83  132        14.5             1         0.7   22   20   \n",
              "\n",
              "       Gtp  Caries  smoking  \n",
              "34126   13       0        0  \n",
              "32637   13       0        0  \n",
              "27570  231       0        0  \n",
              "15714   22       0        0  \n",
              "24697   35       0        0  "
            ],
            "text/html": [
              "\n",
              "  <div id=\"df-ca4bd737-6067-4913-9294-5cbe2827d3ed\">\n",
              "    <div class=\"colab-df-container\">\n",
              "      <div>\n",
              "<style scoped>\n",
              "    .dataframe tbody tr th:only-of-type {\n",
              "        vertical-align: middle;\n",
              "    }\n",
              "\n",
              "    .dataframe tbody tr th {\n",
              "        vertical-align: top;\n",
              "    }\n",
              "\n",
              "    .dataframe thead th {\n",
              "        text-align: right;\n",
              "    }\n",
              "</style>\n",
              "<table border=\"1\" class=\"dataframe\">\n",
              "  <thead>\n",
              "    <tr style=\"text-align: right;\">\n",
              "      <th></th>\n",
              "      <th>age</th>\n",
              "      <th>height</th>\n",
              "      <th>weight</th>\n",
              "      <th>systolic</th>\n",
              "      <th>relaxation</th>\n",
              "      <th>sugar</th>\n",
              "      <th>Cholesterol</th>\n",
              "      <th>triglyceride</th>\n",
              "      <th>HDL</th>\n",
              "      <th>LDL</th>\n",
              "      <th>hemoglobin</th>\n",
              "      <th>UrineProtein</th>\n",
              "      <th>Creatinine</th>\n",
              "      <th>AST</th>\n",
              "      <th>ALT</th>\n",
              "      <th>Gtp</th>\n",
              "      <th>Caries</th>\n",
              "      <th>smoking</th>\n",
              "    </tr>\n",
              "  </thead>\n",
              "  <tbody>\n",
              "    <tr>\n",
              "      <th>34126</th>\n",
              "      <td>50</td>\n",
              "      <td>160</td>\n",
              "      <td>60</td>\n",
              "      <td>119</td>\n",
              "      <td>70</td>\n",
              "      <td>103</td>\n",
              "      <td>223</td>\n",
              "      <td>94</td>\n",
              "      <td>64</td>\n",
              "      <td>140</td>\n",
              "      <td>13.8</td>\n",
              "      <td>1</td>\n",
              "      <td>0.7</td>\n",
              "      <td>20</td>\n",
              "      <td>14</td>\n",
              "      <td>13</td>\n",
              "      <td>0</td>\n",
              "      <td>0</td>\n",
              "    </tr>\n",
              "    <tr>\n",
              "      <th>32637</th>\n",
              "      <td>55</td>\n",
              "      <td>155</td>\n",
              "      <td>50</td>\n",
              "      <td>92</td>\n",
              "      <td>61</td>\n",
              "      <td>91</td>\n",
              "      <td>189</td>\n",
              "      <td>51</td>\n",
              "      <td>64</td>\n",
              "      <td>115</td>\n",
              "      <td>13.2</td>\n",
              "      <td>3</td>\n",
              "      <td>0.9</td>\n",
              "      <td>19</td>\n",
              "      <td>12</td>\n",
              "      <td>13</td>\n",
              "      <td>0</td>\n",
              "      <td>0</td>\n",
              "    </tr>\n",
              "    <tr>\n",
              "      <th>27570</th>\n",
              "      <td>45</td>\n",
              "      <td>165</td>\n",
              "      <td>65</td>\n",
              "      <td>140</td>\n",
              "      <td>89</td>\n",
              "      <td>129</td>\n",
              "      <td>150</td>\n",
              "      <td>91</td>\n",
              "      <td>55</td>\n",
              "      <td>77</td>\n",
              "      <td>16.9</td>\n",
              "      <td>1</td>\n",
              "      <td>0.8</td>\n",
              "      <td>182</td>\n",
              "      <td>311</td>\n",
              "      <td>231</td>\n",
              "      <td>0</td>\n",
              "      <td>0</td>\n",
              "    </tr>\n",
              "    <tr>\n",
              "      <th>15714</th>\n",
              "      <td>40</td>\n",
              "      <td>155</td>\n",
              "      <td>65</td>\n",
              "      <td>142</td>\n",
              "      <td>89</td>\n",
              "      <td>98</td>\n",
              "      <td>199</td>\n",
              "      <td>74</td>\n",
              "      <td>59</td>\n",
              "      <td>125</td>\n",
              "      <td>14.3</td>\n",
              "      <td>1</td>\n",
              "      <td>0.5</td>\n",
              "      <td>15</td>\n",
              "      <td>15</td>\n",
              "      <td>22</td>\n",
              "      <td>0</td>\n",
              "      <td>0</td>\n",
              "    </tr>\n",
              "    <tr>\n",
              "      <th>24697</th>\n",
              "      <td>40</td>\n",
              "      <td>155</td>\n",
              "      <td>50</td>\n",
              "      <td>120</td>\n",
              "      <td>90</td>\n",
              "      <td>97</td>\n",
              "      <td>244</td>\n",
              "      <td>141</td>\n",
              "      <td>83</td>\n",
              "      <td>132</td>\n",
              "      <td>14.5</td>\n",
              "      <td>1</td>\n",
              "      <td>0.7</td>\n",
              "      <td>22</td>\n",
              "      <td>20</td>\n",
              "      <td>35</td>\n",
              "      <td>0</td>\n",
              "      <td>0</td>\n",
              "    </tr>\n",
              "  </tbody>\n",
              "</table>\n",
              "</div>\n",
              "      <button class=\"colab-df-convert\" onclick=\"convertToInteractive('df-ca4bd737-6067-4913-9294-5cbe2827d3ed')\"\n",
              "              title=\"Convert this dataframe to an interactive table.\"\n",
              "              style=\"display:none;\">\n",
              "        \n",
              "  <svg xmlns=\"http://www.w3.org/2000/svg\" height=\"24px\"viewBox=\"0 0 24 24\"\n",
              "       width=\"24px\">\n",
              "    <path d=\"M0 0h24v24H0V0z\" fill=\"none\"/>\n",
              "    <path d=\"M18.56 5.44l.94 2.06.94-2.06 2.06-.94-2.06-.94-.94-2.06-.94 2.06-2.06.94zm-11 1L8.5 8.5l.94-2.06 2.06-.94-2.06-.94L8.5 2.5l-.94 2.06-2.06.94zm10 10l.94 2.06.94-2.06 2.06-.94-2.06-.94-.94-2.06-.94 2.06-2.06.94z\"/><path d=\"M17.41 7.96l-1.37-1.37c-.4-.4-.92-.59-1.43-.59-.52 0-1.04.2-1.43.59L10.3 9.45l-7.72 7.72c-.78.78-.78 2.05 0 2.83L4 21.41c.39.39.9.59 1.41.59.51 0 1.02-.2 1.41-.59l7.78-7.78 2.81-2.81c.8-.78.8-2.07 0-2.86zM5.41 20L4 18.59l7.72-7.72 1.47 1.35L5.41 20z\"/>\n",
              "  </svg>\n",
              "      </button>\n",
              "      \n",
              "  <style>\n",
              "    .colab-df-container {\n",
              "      display:flex;\n",
              "      flex-wrap:wrap;\n",
              "      gap: 12px;\n",
              "    }\n",
              "\n",
              "    .colab-df-convert {\n",
              "      background-color: #E8F0FE;\n",
              "      border: none;\n",
              "      border-radius: 50%;\n",
              "      cursor: pointer;\n",
              "      display: none;\n",
              "      fill: #1967D2;\n",
              "      height: 32px;\n",
              "      padding: 0 0 0 0;\n",
              "      width: 32px;\n",
              "    }\n",
              "\n",
              "    .colab-df-convert:hover {\n",
              "      background-color: #E2EBFA;\n",
              "      box-shadow: 0px 1px 2px rgba(60, 64, 67, 0.3), 0px 1px 3px 1px rgba(60, 64, 67, 0.15);\n",
              "      fill: #174EA6;\n",
              "    }\n",
              "\n",
              "    [theme=dark] .colab-df-convert {\n",
              "      background-color: #3B4455;\n",
              "      fill: #D2E3FC;\n",
              "    }\n",
              "\n",
              "    [theme=dark] .colab-df-convert:hover {\n",
              "      background-color: #434B5C;\n",
              "      box-shadow: 0px 1px 3px 1px rgba(0, 0, 0, 0.15);\n",
              "      filter: drop-shadow(0px 1px 2px rgba(0, 0, 0, 0.3));\n",
              "      fill: #FFFFFF;\n",
              "    }\n",
              "  </style>\n",
              "\n",
              "      <script>\n",
              "        const buttonEl =\n",
              "          document.querySelector('#df-ca4bd737-6067-4913-9294-5cbe2827d3ed button.colab-df-convert');\n",
              "        buttonEl.style.display =\n",
              "          google.colab.kernel.accessAllowed ? 'block' : 'none';\n",
              "\n",
              "        async function convertToInteractive(key) {\n",
              "          const element = document.querySelector('#df-ca4bd737-6067-4913-9294-5cbe2827d3ed');\n",
              "          const dataTable =\n",
              "            await google.colab.kernel.invokeFunction('convertToInteractive',\n",
              "                                                     [key], {});\n",
              "          if (!dataTable) return;\n",
              "\n",
              "          const docLinkHtml = 'Like what you see? Visit the ' +\n",
              "            '<a target=\"_blank\" href=https://colab.research.google.com/notebooks/data_table.ipynb>data table notebook</a>'\n",
              "            + ' to learn more about interactive tables.';\n",
              "          element.innerHTML = '';\n",
              "          dataTable['output_type'] = 'display_data';\n",
              "          await google.colab.output.renderOutput(dataTable, element);\n",
              "          const docLink = document.createElement('div');\n",
              "          docLink.innerHTML = docLinkHtml;\n",
              "          element.appendChild(docLink);\n",
              "        }\n",
              "      </script>\n",
              "    </div>\n",
              "  </div>\n",
              "  "
            ]
          },
          "metadata": {},
          "execution_count": 44
        }
      ]
    },
    {
      "cell_type": "code",
      "source": [
        "df[df['smoking'] == 1]"
      ],
      "metadata": {
        "colab": {
          "base_uri": "https://localhost:8080/",
          "height": 424
        },
        "id": "zOkASN4IPJup",
        "outputId": "40e85528-6a2c-4879-a3cc-202f08bd1e33"
      },
      "execution_count": 45,
      "outputs": [
        {
          "output_type": "execute_result",
          "data": {
            "text/plain": [
              "       age  height  weight  systolic  relaxation  sugar  Cholesterol  \\\n",
              "5368    40     175      70       110          68     89          202   \n",
              "16547   50     175      65       130          93     97          212   \n",
              "27912   50     170      60       114          66    101          173   \n",
              "31154   40     165      65       118          84    104          195   \n",
              "25231   25     175      80       110          70     92          168   \n",
              "...    ...     ...     ...       ...         ...    ...          ...   \n",
              "26821   50     170      70       112          74    101          271   \n",
              "4814    25     175      75       108          62     89          133   \n",
              "29130   55     175      60       120          80    100          175   \n",
              "32792   40     165      60       109          73    185          161   \n",
              "6020    60     175      70       150         100    131          218   \n",
              "\n",
              "       triglyceride  HDL  LDL  hemoglobin  UrineProtein  Creatinine  AST  ALT  \\\n",
              "5368            162   58  112        14.4             1         1.1   17   26   \n",
              "16547           186   49  126        16.2             2         1.1   35   34   \n",
              "27912           185   51   85        14.4             1         0.8   24   12   \n",
              "31154           261   45   98        14.2             1         1.3   27   33   \n",
              "25231            47   53  106        15.8             1         1.2   20   36   \n",
              "...             ...  ...  ...         ...           ...         ...  ...  ...   \n",
              "26821           188   54  179        16.0             1         1.1   25   23   \n",
              "4814             39   62   63        15.1             1         1.0   29   30   \n",
              "29130            72   69   92        14.0             1         0.9   49   41   \n",
              "32792           115   71  910        15.3             1         1.0   32   70   \n",
              "6020            314   75   80        15.4             1         1.0   21   17   \n",
              "\n",
              "       Gtp  Caries  smoking  \n",
              "5368    28       0        1  \n",
              "16547   35       0        1  \n",
              "27912   45       1        1  \n",
              "31154  103       0        1  \n",
              "25231   61       0        1  \n",
              "...    ...     ...      ...  \n",
              "26821   63       0        1  \n",
              "4814    30       0        1  \n",
              "29130   62       0        1  \n",
              "32792   43       0        1  \n",
              "6020   155       0        1  \n",
              "\n",
              "[10000 rows x 18 columns]"
            ],
            "text/html": [
              "\n",
              "  <div id=\"df-5a34dab4-d178-4299-bff8-e2f2ed3f01a7\">\n",
              "    <div class=\"colab-df-container\">\n",
              "      <div>\n",
              "<style scoped>\n",
              "    .dataframe tbody tr th:only-of-type {\n",
              "        vertical-align: middle;\n",
              "    }\n",
              "\n",
              "    .dataframe tbody tr th {\n",
              "        vertical-align: top;\n",
              "    }\n",
              "\n",
              "    .dataframe thead th {\n",
              "        text-align: right;\n",
              "    }\n",
              "</style>\n",
              "<table border=\"1\" class=\"dataframe\">\n",
              "  <thead>\n",
              "    <tr style=\"text-align: right;\">\n",
              "      <th></th>\n",
              "      <th>age</th>\n",
              "      <th>height</th>\n",
              "      <th>weight</th>\n",
              "      <th>systolic</th>\n",
              "      <th>relaxation</th>\n",
              "      <th>sugar</th>\n",
              "      <th>Cholesterol</th>\n",
              "      <th>triglyceride</th>\n",
              "      <th>HDL</th>\n",
              "      <th>LDL</th>\n",
              "      <th>hemoglobin</th>\n",
              "      <th>UrineProtein</th>\n",
              "      <th>Creatinine</th>\n",
              "      <th>AST</th>\n",
              "      <th>ALT</th>\n",
              "      <th>Gtp</th>\n",
              "      <th>Caries</th>\n",
              "      <th>smoking</th>\n",
              "    </tr>\n",
              "  </thead>\n",
              "  <tbody>\n",
              "    <tr>\n",
              "      <th>5368</th>\n",
              "      <td>40</td>\n",
              "      <td>175</td>\n",
              "      <td>70</td>\n",
              "      <td>110</td>\n",
              "      <td>68</td>\n",
              "      <td>89</td>\n",
              "      <td>202</td>\n",
              "      <td>162</td>\n",
              "      <td>58</td>\n",
              "      <td>112</td>\n",
              "      <td>14.4</td>\n",
              "      <td>1</td>\n",
              "      <td>1.1</td>\n",
              "      <td>17</td>\n",
              "      <td>26</td>\n",
              "      <td>28</td>\n",
              "      <td>0</td>\n",
              "      <td>1</td>\n",
              "    </tr>\n",
              "    <tr>\n",
              "      <th>16547</th>\n",
              "      <td>50</td>\n",
              "      <td>175</td>\n",
              "      <td>65</td>\n",
              "      <td>130</td>\n",
              "      <td>93</td>\n",
              "      <td>97</td>\n",
              "      <td>212</td>\n",
              "      <td>186</td>\n",
              "      <td>49</td>\n",
              "      <td>126</td>\n",
              "      <td>16.2</td>\n",
              "      <td>2</td>\n",
              "      <td>1.1</td>\n",
              "      <td>35</td>\n",
              "      <td>34</td>\n",
              "      <td>35</td>\n",
              "      <td>0</td>\n",
              "      <td>1</td>\n",
              "    </tr>\n",
              "    <tr>\n",
              "      <th>27912</th>\n",
              "      <td>50</td>\n",
              "      <td>170</td>\n",
              "      <td>60</td>\n",
              "      <td>114</td>\n",
              "      <td>66</td>\n",
              "      <td>101</td>\n",
              "      <td>173</td>\n",
              "      <td>185</td>\n",
              "      <td>51</td>\n",
              "      <td>85</td>\n",
              "      <td>14.4</td>\n",
              "      <td>1</td>\n",
              "      <td>0.8</td>\n",
              "      <td>24</td>\n",
              "      <td>12</td>\n",
              "      <td>45</td>\n",
              "      <td>1</td>\n",
              "      <td>1</td>\n",
              "    </tr>\n",
              "    <tr>\n",
              "      <th>31154</th>\n",
              "      <td>40</td>\n",
              "      <td>165</td>\n",
              "      <td>65</td>\n",
              "      <td>118</td>\n",
              "      <td>84</td>\n",
              "      <td>104</td>\n",
              "      <td>195</td>\n",
              "      <td>261</td>\n",
              "      <td>45</td>\n",
              "      <td>98</td>\n",
              "      <td>14.2</td>\n",
              "      <td>1</td>\n",
              "      <td>1.3</td>\n",
              "      <td>27</td>\n",
              "      <td>33</td>\n",
              "      <td>103</td>\n",
              "      <td>0</td>\n",
              "      <td>1</td>\n",
              "    </tr>\n",
              "    <tr>\n",
              "      <th>25231</th>\n",
              "      <td>25</td>\n",
              "      <td>175</td>\n",
              "      <td>80</td>\n",
              "      <td>110</td>\n",
              "      <td>70</td>\n",
              "      <td>92</td>\n",
              "      <td>168</td>\n",
              "      <td>47</td>\n",
              "      <td>53</td>\n",
              "      <td>106</td>\n",
              "      <td>15.8</td>\n",
              "      <td>1</td>\n",
              "      <td>1.2</td>\n",
              "      <td>20</td>\n",
              "      <td>36</td>\n",
              "      <td>61</td>\n",
              "      <td>0</td>\n",
              "      <td>1</td>\n",
              "    </tr>\n",
              "    <tr>\n",
              "      <th>...</th>\n",
              "      <td>...</td>\n",
              "      <td>...</td>\n",
              "      <td>...</td>\n",
              "      <td>...</td>\n",
              "      <td>...</td>\n",
              "      <td>...</td>\n",
              "      <td>...</td>\n",
              "      <td>...</td>\n",
              "      <td>...</td>\n",
              "      <td>...</td>\n",
              "      <td>...</td>\n",
              "      <td>...</td>\n",
              "      <td>...</td>\n",
              "      <td>...</td>\n",
              "      <td>...</td>\n",
              "      <td>...</td>\n",
              "      <td>...</td>\n",
              "      <td>...</td>\n",
              "    </tr>\n",
              "    <tr>\n",
              "      <th>26821</th>\n",
              "      <td>50</td>\n",
              "      <td>170</td>\n",
              "      <td>70</td>\n",
              "      <td>112</td>\n",
              "      <td>74</td>\n",
              "      <td>101</td>\n",
              "      <td>271</td>\n",
              "      <td>188</td>\n",
              "      <td>54</td>\n",
              "      <td>179</td>\n",
              "      <td>16.0</td>\n",
              "      <td>1</td>\n",
              "      <td>1.1</td>\n",
              "      <td>25</td>\n",
              "      <td>23</td>\n",
              "      <td>63</td>\n",
              "      <td>0</td>\n",
              "      <td>1</td>\n",
              "    </tr>\n",
              "    <tr>\n",
              "      <th>4814</th>\n",
              "      <td>25</td>\n",
              "      <td>175</td>\n",
              "      <td>75</td>\n",
              "      <td>108</td>\n",
              "      <td>62</td>\n",
              "      <td>89</td>\n",
              "      <td>133</td>\n",
              "      <td>39</td>\n",
              "      <td>62</td>\n",
              "      <td>63</td>\n",
              "      <td>15.1</td>\n",
              "      <td>1</td>\n",
              "      <td>1.0</td>\n",
              "      <td>29</td>\n",
              "      <td>30</td>\n",
              "      <td>30</td>\n",
              "      <td>0</td>\n",
              "      <td>1</td>\n",
              "    </tr>\n",
              "    <tr>\n",
              "      <th>29130</th>\n",
              "      <td>55</td>\n",
              "      <td>175</td>\n",
              "      <td>60</td>\n",
              "      <td>120</td>\n",
              "      <td>80</td>\n",
              "      <td>100</td>\n",
              "      <td>175</td>\n",
              "      <td>72</td>\n",
              "      <td>69</td>\n",
              "      <td>92</td>\n",
              "      <td>14.0</td>\n",
              "      <td>1</td>\n",
              "      <td>0.9</td>\n",
              "      <td>49</td>\n",
              "      <td>41</td>\n",
              "      <td>62</td>\n",
              "      <td>0</td>\n",
              "      <td>1</td>\n",
              "    </tr>\n",
              "    <tr>\n",
              "      <th>32792</th>\n",
              "      <td>40</td>\n",
              "      <td>165</td>\n",
              "      <td>60</td>\n",
              "      <td>109</td>\n",
              "      <td>73</td>\n",
              "      <td>185</td>\n",
              "      <td>161</td>\n",
              "      <td>115</td>\n",
              "      <td>71</td>\n",
              "      <td>910</td>\n",
              "      <td>15.3</td>\n",
              "      <td>1</td>\n",
              "      <td>1.0</td>\n",
              "      <td>32</td>\n",
              "      <td>70</td>\n",
              "      <td>43</td>\n",
              "      <td>0</td>\n",
              "      <td>1</td>\n",
              "    </tr>\n",
              "    <tr>\n",
              "      <th>6020</th>\n",
              "      <td>60</td>\n",
              "      <td>175</td>\n",
              "      <td>70</td>\n",
              "      <td>150</td>\n",
              "      <td>100</td>\n",
              "      <td>131</td>\n",
              "      <td>218</td>\n",
              "      <td>314</td>\n",
              "      <td>75</td>\n",
              "      <td>80</td>\n",
              "      <td>15.4</td>\n",
              "      <td>1</td>\n",
              "      <td>1.0</td>\n",
              "      <td>21</td>\n",
              "      <td>17</td>\n",
              "      <td>155</td>\n",
              "      <td>0</td>\n",
              "      <td>1</td>\n",
              "    </tr>\n",
              "  </tbody>\n",
              "</table>\n",
              "<p>10000 rows × 18 columns</p>\n",
              "</div>\n",
              "      <button class=\"colab-df-convert\" onclick=\"convertToInteractive('df-5a34dab4-d178-4299-bff8-e2f2ed3f01a7')\"\n",
              "              title=\"Convert this dataframe to an interactive table.\"\n",
              "              style=\"display:none;\">\n",
              "        \n",
              "  <svg xmlns=\"http://www.w3.org/2000/svg\" height=\"24px\"viewBox=\"0 0 24 24\"\n",
              "       width=\"24px\">\n",
              "    <path d=\"M0 0h24v24H0V0z\" fill=\"none\"/>\n",
              "    <path d=\"M18.56 5.44l.94 2.06.94-2.06 2.06-.94-2.06-.94-.94-2.06-.94 2.06-2.06.94zm-11 1L8.5 8.5l.94-2.06 2.06-.94-2.06-.94L8.5 2.5l-.94 2.06-2.06.94zm10 10l.94 2.06.94-2.06 2.06-.94-2.06-.94-.94-2.06-.94 2.06-2.06.94z\"/><path d=\"M17.41 7.96l-1.37-1.37c-.4-.4-.92-.59-1.43-.59-.52 0-1.04.2-1.43.59L10.3 9.45l-7.72 7.72c-.78.78-.78 2.05 0 2.83L4 21.41c.39.39.9.59 1.41.59.51 0 1.02-.2 1.41-.59l7.78-7.78 2.81-2.81c.8-.78.8-2.07 0-2.86zM5.41 20L4 18.59l7.72-7.72 1.47 1.35L5.41 20z\"/>\n",
              "  </svg>\n",
              "      </button>\n",
              "      \n",
              "  <style>\n",
              "    .colab-df-container {\n",
              "      display:flex;\n",
              "      flex-wrap:wrap;\n",
              "      gap: 12px;\n",
              "    }\n",
              "\n",
              "    .colab-df-convert {\n",
              "      background-color: #E8F0FE;\n",
              "      border: none;\n",
              "      border-radius: 50%;\n",
              "      cursor: pointer;\n",
              "      display: none;\n",
              "      fill: #1967D2;\n",
              "      height: 32px;\n",
              "      padding: 0 0 0 0;\n",
              "      width: 32px;\n",
              "    }\n",
              "\n",
              "    .colab-df-convert:hover {\n",
              "      background-color: #E2EBFA;\n",
              "      box-shadow: 0px 1px 2px rgba(60, 64, 67, 0.3), 0px 1px 3px 1px rgba(60, 64, 67, 0.15);\n",
              "      fill: #174EA6;\n",
              "    }\n",
              "\n",
              "    [theme=dark] .colab-df-convert {\n",
              "      background-color: #3B4455;\n",
              "      fill: #D2E3FC;\n",
              "    }\n",
              "\n",
              "    [theme=dark] .colab-df-convert:hover {\n",
              "      background-color: #434B5C;\n",
              "      box-shadow: 0px 1px 3px 1px rgba(0, 0, 0, 0.15);\n",
              "      filter: drop-shadow(0px 1px 2px rgba(0, 0, 0, 0.3));\n",
              "      fill: #FFFFFF;\n",
              "    }\n",
              "  </style>\n",
              "\n",
              "      <script>\n",
              "        const buttonEl =\n",
              "          document.querySelector('#df-5a34dab4-d178-4299-bff8-e2f2ed3f01a7 button.colab-df-convert');\n",
              "        buttonEl.style.display =\n",
              "          google.colab.kernel.accessAllowed ? 'block' : 'none';\n",
              "\n",
              "        async function convertToInteractive(key) {\n",
              "          const element = document.querySelector('#df-5a34dab4-d178-4299-bff8-e2f2ed3f01a7');\n",
              "          const dataTable =\n",
              "            await google.colab.kernel.invokeFunction('convertToInteractive',\n",
              "                                                     [key], {});\n",
              "          if (!dataTable) return;\n",
              "\n",
              "          const docLinkHtml = 'Like what you see? Visit the ' +\n",
              "            '<a target=\"_blank\" href=https://colab.research.google.com/notebooks/data_table.ipynb>data table notebook</a>'\n",
              "            + ' to learn more about interactive tables.';\n",
              "          element.innerHTML = '';\n",
              "          dataTable['output_type'] = 'display_data';\n",
              "          await google.colab.output.renderOutput(dataTable, element);\n",
              "          const docLink = document.createElement('div');\n",
              "          docLink.innerHTML = docLinkHtml;\n",
              "          element.appendChild(docLink);\n",
              "        }\n",
              "      </script>\n",
              "    </div>\n",
              "  </div>\n",
              "  "
            ]
          },
          "metadata": {},
          "execution_count": 45
        }
      ]
    },
    {
      "cell_type": "markdown",
      "source": [
        "# 3 - Análisis descriptivo de la data (EDA)"
      ],
      "metadata": {
        "id": "_Ke3-GIlThw4"
      }
    },
    {
      "cell_type": "code",
      "source": [
        "rep = create_report(df)\n",
        "rep.save(\"Reporte\")"
      ],
      "metadata": {
        "colab": {
          "base_uri": "https://localhost:8080/"
        },
        "id": "4G6bGt16URyY",
        "outputId": "3abdb5b9-b5a5-4dd3-cea9-d2028db3339b"
      },
      "execution_count": 14,
      "outputs": [
        {
          "output_type": "stream",
          "name": "stderr",
          "text": []
        },
        {
          "output_type": "stream",
          "name": "stdout",
          "text": [
            "Report has been saved to Reporte.html!\n"
          ]
        }
      ]
    },
    {
      "cell_type": "code",
      "source": [
        "df.columns"
      ],
      "metadata": {
        "colab": {
          "base_uri": "https://localhost:8080/"
        },
        "id": "I1CfvO0vVTAN",
        "outputId": "77372ec7-4c59-4e32-bbda-d68d11f9e630"
      },
      "execution_count": 15,
      "outputs": [
        {
          "output_type": "execute_result",
          "data": {
            "text/plain": [
              "Index(['age', 'height', 'weight', 'systolic', 'relaxation', 'sugar',\n",
              "       'Cholesterol', 'triglyceride', 'HDL', 'LDL', 'hemoglobin',\n",
              "       'UrineProtein', 'Creatinine', 'AST', 'ALT', 'Gtp', 'Caries', 'smoking'],\n",
              "      dtype='object')"
            ]
          },
          "metadata": {},
          "execution_count": 15
        }
      ]
    },
    {
      "cell_type": "code",
      "source": [
        "plt.hist(df['age'])\n",
        "plt.show()"
      ],
      "metadata": {
        "colab": {
          "base_uri": "https://localhost:8080/",
          "height": 265
        },
        "id": "Io790J3f56_T",
        "outputId": "590d7b3c-9b21-48d1-97be-62306c8b6aa9"
      },
      "execution_count": 69,
      "outputs": [
        {
          "output_type": "display_data",
          "data": {
            "text/plain": [
              "<Figure size 432x288 with 1 Axes>"
            ],
            "image/png": "[encoded data removed]"
          },
          "metadata": {
            "needs_background": "light"
          }
        }
      ]
    },
    {
      "cell_type": "code",
      "source": [
        "plt.hist(df['height'])\n",
        "plt.show()"
      ],
      "metadata": {
        "colab": {
          "base_uri": "https://localhost:8080/",
          "height": 265
        },
        "id": "WgUiyAgP6U6h",
        "outputId": "703d9ba5-0733-4755-cbb3-f12ba1a3eeb1"
      },
      "execution_count": 68,
      "outputs": [
        {
          "output_type": "display_data",
          "data": {
            "text/plain": [
              "<Figure size 432x288 with 1 Axes>"
            ],
            "image/png": "[encoded data removed]"
          },
          "metadata": {
            "needs_background": "light"
          }
        }
      ]
    },
    {
      "cell_type": "code",
      "source": [
        "plt.hist(df['weight'])\n",
        "plt.show()"
      ],
      "metadata": {
        "colab": {
          "base_uri": "https://localhost:8080/",
          "height": 265
        },
        "id": "otM9sMNM6XZi",
        "outputId": "cedcf7e7-322b-453e-80a3-5865d4279f6f"
      },
      "execution_count": 67,
      "outputs": [
        {
          "output_type": "display_data",
          "data": {
            "text/plain": [
              "<Figure size 432x288 with 1 Axes>"
            ],
            "image/png": "[encoded data removed]"
          },
          "metadata": {
            "needs_background": "light"
          }
        }
      ]
    },
    {
      "cell_type": "code",
      "source": [
        "plt.hist(df['systolic'])\n",
        "plt.show()"
      ],
      "metadata": {
        "colab": {
          "base_uri": "https://localhost:8080/",
          "height": 265
        },
        "id": "wWompCgC6Y-O",
        "outputId": "24bceff8-de7c-46a5-cbab-ce1c6da61ae6"
      },
      "execution_count": 66,
      "outputs": [
        {
          "output_type": "display_data",
          "data": {
            "text/plain": [
              "<Figure size 432x288 with 1 Axes>"
            ],
            "image/png": "[encoded data removed]"
          },
          "metadata": {
            "needs_background": "light"
          }
        }
      ]
    },
    {
      "cell_type": "code",
      "source": [
        "plt.hist(df['relaxation'])\n",
        "plt.show()"
      ],
      "metadata": {
        "colab": {
          "base_uri": "https://localhost:8080/",
          "height": 265
        },
        "id": "oALgS3rG6bi7",
        "outputId": "2a41d8eb-3fda-4b4b-efba-c775fcff9a9b"
      },
      "execution_count": 56,
      "outputs": [
        {
          "output_type": "display_data",
          "data": {
            "text/plain": [
              "<Figure size 432x288 with 1 Axes>"
            ],
            "image/png": "[encoded data removed]"
          },
          "metadata": {
            "needs_background": "light"
          }
        }
      ]
    },
    {
      "cell_type": "code",
      "source": [
        "plt.hist(df['sugar'])\n",
        "plt.show()"
      ],
      "metadata": {
        "colab": {
          "base_uri": "https://localhost:8080/",
          "height": 265
        },
        "id": "SSA2z56g6d8j",
        "outputId": "0a6d44ca-8d4c-4a84-a8a8-b3660db08128"
      },
      "execution_count": 70,
      "outputs": [
        {
          "output_type": "display_data",
          "data": {
            "text/plain": [
              "<Figure size 432x288 with 1 Axes>"
            ],
            "image/png": "[encoded data removed]"
          },
          "metadata": {
            "needs_background": "light"
          }
        }
      ]
    },
    {
      "cell_type": "code",
      "source": [
        "plt.hist(df['Cholesterol'])\n",
        "plt.show()"
      ],
      "metadata": {
        "colab": {
          "base_uri": "https://localhost:8080/",
          "height": 265
        },
        "id": "yYdARUzy6fij",
        "outputId": "7201be52-0871-47b2-af54-b88554d584d2"
      },
      "execution_count": 71,
      "outputs": [
        {
          "output_type": "display_data",
          "data": {
            "text/plain": [
              "<Figure size 432x288 with 1 Axes>"
            ],
            "image/png": "[encoded data removed]"
          },
          "metadata": {
            "needs_background": "light"
          }
        }
      ]
    },
    {
      "cell_type": "code",
      "source": [
        "plt.hist(df['triglyceride'])\n",
        "plt.show()"
      ],
      "metadata": {
        "colab": {
          "base_uri": "https://localhost:8080/",
          "height": 265
        },
        "id": "YCfELhvA6hef",
        "outputId": "dcf30af1-e70d-4312-c675-bf1026aa6d7d"
      },
      "execution_count": 72,
      "outputs": [
        {
          "output_type": "display_data",
          "data": {
            "text/plain": [
              "<Figure size 432x288 with 1 Axes>"
            ],
            "image/png": "[encoded data removed]"
          },
          "metadata": {
            "needs_background": "light"
          }
        }
      ]
    },
    {
      "cell_type": "code",
      "source": [
        "plt.hist(df['HDL'])\n",
        "plt.show()"
      ],
      "metadata": {
        "colab": {
          "base_uri": "https://localhost:8080/",
          "height": 265
        },
        "id": "hSQTlIyT6jR7",
        "outputId": "571b54d4-3239-4aea-e425-e25ccdb6239c"
      },
      "execution_count": 73,
      "outputs": [
        {
          "output_type": "display_data",
          "data": {
            "text/plain": [
              "<Figure size 432x288 with 1 Axes>"
            ],
            "image/png": "[encoded data removed]"
          },
          "metadata": {
            "needs_background": "light"
          }
        }
      ]
    },
    {
      "cell_type": "code",
      "source": [
        "plt.hist(df['LDL'])\n",
        "plt.show()"
      ],
      "metadata": {
        "colab": {
          "base_uri": "https://localhost:8080/",
          "height": 265
        },
        "id": "pXAGh_YK6lk0",
        "outputId": "a78203ae-7134-4832-aae1-39726da19d8e"
      },
      "execution_count": 74,
      "outputs": [
        {
          "output_type": "display_data",
          "data": {
            "text/plain": [
              "<Figure size 432x288 with 1 Axes>"
            ],
            "image/png": "[encoded data removed]"
          },
          "metadata": {
            "needs_background": "light"
          }
        }
      ]
    },
    {
      "cell_type": "code",
      "source": [
        "plt.hist(df['hemoglobin'])\n",
        "plt.show()"
      ],
      "metadata": {
        "colab": {
          "base_uri": "https://localhost:8080/",
          "height": 265
        },
        "id": "ALPPchvk6oAu",
        "outputId": "da9013e1-1ee9-43b2-ad12-4d65d30a402e"
      },
      "execution_count": 75,
      "outputs": [
        {
          "output_type": "display_data",
          "data": {
            "text/plain": [
              "<Figure size 432x288 with 1 Axes>"
            ],
            "image/png": "[encoded data removed]"
          },
          "metadata": {
            "needs_background": "light"
          }
        }
      ]
    },
    {
      "cell_type": "code",
      "source": [
        "plt.hist(df['UrineProtein'])\n",
        "plt.show()"
      ],
      "metadata": {
        "colab": {
          "base_uri": "https://localhost:8080/",
          "height": 265
        },
        "id": "AfwiGjPD6pqd",
        "outputId": "6864e470-9c92-44d9-ed2e-2d7c0e99e50c"
      },
      "execution_count": 76,
      "outputs": [
        {
          "output_type": "display_data",
          "data": {
            "text/plain": [
              "<Figure size 432x288 with 1 Axes>"
            ],
            "image/png": "[encoded data removed]"
          },
          "metadata": {
            "needs_background": "light"
          }
        }
      ]
    },
    {
      "cell_type": "code",
      "source": [
        "plt.hist(df['Creatinine'])\n",
        "plt.show()"
      ],
      "metadata": {
        "colab": {
          "base_uri": "https://localhost:8080/",
          "height": 265
        },
        "id": "q4srNezk6rcu",
        "outputId": "a1da7e18-5f36-482f-af17-e2934c3f9669"
      },
      "execution_count": 77,
      "outputs": [
        {
          "output_type": "display_data",
          "data": {
            "text/plain": [
              "<Figure size 432x288 with 1 Axes>"
            ],
            "image/png": "[encoded data removed]"
          },
          "metadata": {
            "needs_background": "light"
          }
        }
      ]
    },
    {
      "cell_type": "code",
      "source": [
        "plt.hist(df['AST'])\n",
        "plt.show()"
      ],
      "metadata": {
        "colab": {
          "base_uri": "https://localhost:8080/",
          "height": 265
        },
        "id": "NUV33mEh6txj",
        "outputId": "7cfe570f-b42a-4d9b-a23e-bf9fcf41d08d"
      },
      "execution_count": 78,
      "outputs": [
        {
          "output_type": "display_data",
          "data": {
            "text/plain": [
              "<Figure size 432x288 with 1 Axes>"
            ],
            "image/png": "[encoded data removed]"
          },
          "metadata": {
            "needs_background": "light"
          }
        }
      ]
    },
    {
      "cell_type": "code",
      "source": [
        "plt.hist(df['ALT'])\n",
        "plt.show()"
      ],
      "metadata": {
        "colab": {
          "base_uri": "https://localhost:8080/",
          "height": 265
        },
        "id": "A8B0X53c6wVC",
        "outputId": "b7973bbd-5c60-4676-c584-b0a0206010b8"
      },
      "execution_count": 79,
      "outputs": [
        {
          "output_type": "display_data",
          "data": {
            "text/plain": [
              "<Figure size 432x288 with 1 Axes>"
            ],
            "image/png": "[encoded data removed]"
          },
          "metadata": {
            "needs_background": "light"
          }
        }
      ]
    },
    {
      "cell_type": "code",
      "source": [
        "plt.hist(df['Gtp'])\n",
        "plt.show()"
      ],
      "metadata": {
        "colab": {
          "base_uri": "https://localhost:8080/",
          "height": 265
        },
        "id": "YxUp3tMF6xvW",
        "outputId": "798cf3ef-d76e-495c-a0b3-8d3cd0f31c2e"
      },
      "execution_count": 80,
      "outputs": [
        {
          "output_type": "display_data",
          "data": {
            "text/plain": [
              "<Figure size 432x288 with 1 Axes>"
            ],
            "image/png": "[encoded data removed]"
          },
          "metadata": {
            "needs_background": "light"
          }
        }
      ]
    },
    {
      "cell_type": "code",
      "source": [
        "plt.hist(df['Caries'])\n",
        "plt.show()"
      ],
      "metadata": {
        "colab": {
          "base_uri": "https://localhost:8080/",
          "height": 267
        },
        "id": "ELadIYl560_D",
        "outputId": "5d51e7c4-eadf-4cbe-c689-4505b79f2e39"
      },
      "execution_count": 81,
      "outputs": [
        {
          "output_type": "display_data",
          "data": {
            "text/plain": [
              "<Figure size 432x288 with 1 Axes>"
            ],
            "image/png": "[encoded data removed]"
          },
          "metadata": {
            "needs_background": "light"
          }
        }
      ]
    },
    {
      "cell_type": "markdown",
      "source": [
        "# 4 - Entrenamiento del modelo."
      ],
      "metadata": {
        "id": "iP1s5dnfULma"
      }
    },
    {
      "cell_type": "code",
      "source": [
        "x = df.iloc[:, :-1]\n",
        "y = df.iloc[:, -1]"
      ],
      "metadata": {
        "id": "2LhXHH_pjN83"
      },
      "execution_count": 46,
      "outputs": []
    },
    {
      "cell_type": "code",
      "source": [
        "x"
      ],
      "metadata": {
        "colab": {
          "base_uri": "https://localhost:8080/",
          "height": 424
        },
        "id": "D4b7CZi09byj",
        "outputId": "825c284b-7635-46fb-8f7a-a7ae8da2b53b"
      },
      "execution_count": 57,
      "outputs": [
        {
          "output_type": "execute_result",
          "data": {
            "text/plain": [
              "       age  height  weight  systolic  relaxation  sugar  Cholesterol  \\\n",
              "34126   50     160      60       119          70    103          223   \n",
              "32637   55     155      50        92          61     91          189   \n",
              "27570   45     165      65       140          89    129          150   \n",
              "15714   40     155      65       142          89     98          199   \n",
              "24697   40     155      50       120          90     97          244   \n",
              "...    ...     ...     ...       ...         ...    ...          ...   \n",
              "26821   50     170      70       112          74    101          271   \n",
              "4814    25     175      75       108          62     89          133   \n",
              "29130   55     175      60       120          80    100          175   \n",
              "32792   40     165      60       109          73    185          161   \n",
              "6020    60     175      70       150         100    131          218   \n",
              "\n",
              "       triglyceride  HDL  LDL  hemoglobin  UrineProtein  Creatinine  AST  ALT  \\\n",
              "34126            94   64  140        13.8             1         0.7   20   14   \n",
              "32637            51   64  115        13.2             3         0.9   19   12   \n",
              "27570            91   55   77        16.9             1         0.8  182  311   \n",
              "15714            74   59  125        14.3             1         0.5   15   15   \n",
              "24697           141   83  132        14.5             1         0.7   22   20   \n",
              "...             ...  ...  ...         ...           ...         ...  ...  ...   \n",
              "26821           188   54  179        16.0             1         1.1   25   23   \n",
              "4814             39   62   63        15.1             1         1.0   29   30   \n",
              "29130            72   69   92        14.0             1         0.9   49   41   \n",
              "32792           115   71  910        15.3             1         1.0   32   70   \n",
              "6020            314   75   80        15.4             1         1.0   21   17   \n",
              "\n",
              "       Gtp  Caries  \n",
              "34126   13       0  \n",
              "32637   13       0  \n",
              "27570  231       0  \n",
              "15714   22       0  \n",
              "24697   35       0  \n",
              "...    ...     ...  \n",
              "26821   63       0  \n",
              "4814    30       0  \n",
              "29130   62       0  \n",
              "32792   43       0  \n",
              "6020   155       0  \n",
              "\n",
              "[20000 rows x 17 columns]"
            ],
            "text/html": [
              "\n",
              "  <div id=\"df-a7f1f0d0-02d4-404a-9b08-fe8bed1b88ec\">\n",
              "    <div class=\"colab-df-container\">\n",
              "      <div>\n",
              "<style scoped>\n",
              "    .dataframe tbody tr th:only-of-type {\n",
              "        vertical-align: middle;\n",
              "    }\n",
              "\n",
              "    .dataframe tbody tr th {\n",
              "        vertical-align: top;\n",
              "    }\n",
              "\n",
              "    .dataframe thead th {\n",
              "        text-align: right;\n",
              "    }\n",
              "</style>\n",
              "<table border=\"1\" class=\"dataframe\">\n",
              "  <thead>\n",
              "    <tr style=\"text-align: right;\">\n",
              "      <th></th>\n",
              "      <th>age</th>\n",
              "      <th>height</th>\n",
              "      <th>weight</th>\n",
              "      <th>systolic</th>\n",
              "      <th>relaxation</th>\n",
              "      <th>sugar</th>\n",
              "      <th>Cholesterol</th>\n",
              "      <th>triglyceride</th>\n",
              "      <th>HDL</th>\n",
              "      <th>LDL</th>\n",
              "      <th>hemoglobin</th>\n",
              "      <th>UrineProtein</th>\n",
              "      <th>Creatinine</th>\n",
              "      <th>AST</th>\n",
              "      <th>ALT</th>\n",
              "      <th>Gtp</th>\n",
              "      <th>Caries</th>\n",
              "    </tr>\n",
              "  </thead>\n",
              "  <tbody>\n",
              "    <tr>\n",
              "      <th>34126</th>\n",
              "      <td>50</td>\n",
              "      <td>160</td>\n",
              "      <td>60</td>\n",
              "      <td>119</td>\n",
              "      <td>70</td>\n",
              "      <td>103</td>\n",
              "      <td>223</td>\n",
              "      <td>94</td>\n",
              "      <td>64</td>\n",
              "      <td>140</td>\n",
              "      <td>13.8</td>\n",
              "      <td>1</td>\n",
              "      <td>0.7</td>\n",
              "      <td>20</td>\n",
              "      <td>14</td>\n",
              "      <td>13</td>\n",
              "      <td>0</td>\n",
              "    </tr>\n",
              "    <tr>\n",
              "      <th>32637</th>\n",
              "      <td>55</td>\n",
              "      <td>155</td>\n",
              "      <td>50</td>\n",
              "      <td>92</td>\n",
              "      <td>61</td>\n",
              "      <td>91</td>\n",
              "      <td>189</td>\n",
              "      <td>51</td>\n",
              "      <td>64</td>\n",
              "      <td>115</td>\n",
              "      <td>13.2</td>\n",
              "      <td>3</td>\n",
              "      <td>0.9</td>\n",
              "      <td>19</td>\n",
              "      <td>12</td>\n",
              "      <td>13</td>\n",
              "      <td>0</td>\n",
              "    </tr>\n",
              "    <tr>\n",
              "      <th>27570</th>\n",
              "      <td>45</td>\n",
              "      <td>165</td>\n",
              "      <td>65</td>\n",
              "      <td>140</td>\n",
              "      <td>89</td>\n",
              "      <td>129</td>\n",
              "      <td>150</td>\n",
              "      <td>91</td>\n",
              "      <td>55</td>\n",
              "      <td>77</td>\n",
              "      <td>16.9</td>\n",
              "      <td>1</td>\n",
              "      <td>0.8</td>\n",
              "      <td>182</td>\n",
              "      <td>311</td>\n",
              "      <td>231</td>\n",
              "      <td>0</td>\n",
              "    </tr>\n",
              "    <tr>\n",
              "      <th>15714</th>\n",
              "      <td>40</td>\n",
              "      <td>155</td>\n",
              "      <td>65</td>\n",
              "      <td>142</td>\n",
              "      <td>89</td>\n",
              "      <td>98</td>\n",
              "      <td>199</td>\n",
              "      <td>74</td>\n",
              "      <td>59</td>\n",
              "      <td>125</td>\n",
              "      <td>14.3</td>\n",
              "      <td>1</td>\n",
              "      <td>0.5</td>\n",
              "      <td>15</td>\n",
              "      <td>15</td>\n",
              "      <td>22</td>\n",
              "      <td>0</td>\n",
              "    </tr>\n",
              "    <tr>\n",
              "      <th>24697</th>\n",
              "      <td>40</td>\n",
              "      <td>155</td>\n",
              "      <td>50</td>\n",
              "      <td>120</td>\n",
              "      <td>90</td>\n",
              "      <td>97</td>\n",
              "      <td>244</td>\n",
              "      <td>141</td>\n",
              "      <td>83</td>\n",
              "      <td>132</td>\n",
              "      <td>14.5</td>\n",
              "      <td>1</td>\n",
              "      <td>0.7</td>\n",
              "      <td>22</td>\n",
              "      <td>20</td>\n",
              "      <td>35</td>\n",
              "      <td>0</td>\n",
              "    </tr>\n",
              "    <tr>\n",
              "      <th>...</th>\n",
              "      <td>...</td>\n",
              "      <td>...</td>\n",
              "      <td>...</td>\n",
              "      <td>...</td>\n",
              "      <td>...</td>\n",
              "      <td>...</td>\n",
              "      <td>...</td>\n",
              "      <td>...</td>\n",
              "      <td>...</td>\n",
              "      <td>...</td>\n",
              "      <td>...</td>\n",
              "      <td>...</td>\n",
              "      <td>...</td>\n",
              "      <td>...</td>\n",
              "      <td>...</td>\n",
              "      <td>...</td>\n",
              "      <td>...</td>\n",
              "    </tr>\n",
              "    <tr>\n",
              "      <th>26821</th>\n",
              "      <td>50</td>\n",
              "      <td>170</td>\n",
              "      <td>70</td>\n",
              "      <td>112</td>\n",
              "      <td>74</td>\n",
              "      <td>101</td>\n",
              "      <td>271</td>\n",
              "      <td>188</td>\n",
              "      <td>54</td>\n",
              "      <td>179</td>\n",
              "      <td>16.0</td>\n",
              "      <td>1</td>\n",
              "      <td>1.1</td>\n",
              "      <td>25</td>\n",
              "      <td>23</td>\n",
              "      <td>63</td>\n",
              "      <td>0</td>\n",
              "    </tr>\n",
              "    <tr>\n",
              "      <th>4814</th>\n",
              "      <td>25</td>\n",
              "      <td>175</td>\n",
              "      <td>75</td>\n",
              "      <td>108</td>\n",
              "      <td>62</td>\n",
              "      <td>89</td>\n",
              "      <td>133</td>\n",
              "      <td>39</td>\n",
              "      <td>62</td>\n",
              "      <td>63</td>\n",
              "      <td>15.1</td>\n",
              "      <td>1</td>\n",
              "      <td>1.0</td>\n",
              "      <td>29</td>\n",
              "      <td>30</td>\n",
              "      <td>30</td>\n",
              "      <td>0</td>\n",
              "    </tr>\n",
              "    <tr>\n",
              "      <th>29130</th>\n",
              "      <td>55</td>\n",
              "      <td>175</td>\n",
              "      <td>60</td>\n",
              "      <td>120</td>\n",
              "      <td>80</td>\n",
              "      <td>100</td>\n",
              "      <td>175</td>\n",
              "      <td>72</td>\n",
              "      <td>69</td>\n",
              "      <td>92</td>\n",
              "      <td>14.0</td>\n",
              "      <td>1</td>\n",
              "      <td>0.9</td>\n",
              "      <td>49</td>\n",
              "      <td>41</td>\n",
              "      <td>62</td>\n",
              "      <td>0</td>\n",
              "    </tr>\n",
              "    <tr>\n",
              "      <th>32792</th>\n",
              "      <td>40</td>\n",
              "      <td>165</td>\n",
              "      <td>60</td>\n",
              "      <td>109</td>\n",
              "      <td>73</td>\n",
              "      <td>185</td>\n",
              "      <td>161</td>\n",
              "      <td>115</td>\n",
              "      <td>71</td>\n",
              "      <td>910</td>\n",
              "      <td>15.3</td>\n",
              "      <td>1</td>\n",
              "      <td>1.0</td>\n",
              "      <td>32</td>\n",
              "      <td>70</td>\n",
              "      <td>43</td>\n",
              "      <td>0</td>\n",
              "    </tr>\n",
              "    <tr>\n",
              "      <th>6020</th>\n",
              "      <td>60</td>\n",
              "      <td>175</td>\n",
              "      <td>70</td>\n",
              "      <td>150</td>\n",
              "      <td>100</td>\n",
              "      <td>131</td>\n",
              "      <td>218</td>\n",
              "      <td>314</td>\n",
              "      <td>75</td>\n",
              "      <td>80</td>\n",
              "      <td>15.4</td>\n",
              "      <td>1</td>\n",
              "      <td>1.0</td>\n",
              "      <td>21</td>\n",
              "      <td>17</td>\n",
              "      <td>155</td>\n",
              "      <td>0</td>\n",
              "    </tr>\n",
              "  </tbody>\n",
              "</table>\n",
              "<p>20000 rows × 17 columns</p>\n",
              "</div>\n",
              "      <button class=\"colab-df-convert\" onclick=\"convertToInteractive('df-a7f1f0d0-02d4-404a-9b08-fe8bed1b88ec')\"\n",
              "              title=\"Convert this dataframe to an interactive table.\"\n",
              "              style=\"display:none;\">\n",
              "        \n",
              "  <svg xmlns=\"http://www.w3.org/2000/svg\" height=\"24px\"viewBox=\"0 0 24 24\"\n",
              "       width=\"24px\">\n",
              "    <path d=\"M0 0h24v24H0V0z\" fill=\"none\"/>\n",
              "    <path d=\"M18.56 5.44l.94 2.06.94-2.06 2.06-.94-2.06-.94-.94-2.06-.94 2.06-2.06.94zm-11 1L8.5 8.5l.94-2.06 2.06-.94-2.06-.94L8.5 2.5l-.94 2.06-2.06.94zm10 10l.94 2.06.94-2.06 2.06-.94-2.06-.94-.94-2.06-.94 2.06-2.06.94z\"/><path d=\"M17.41 7.96l-1.37-1.37c-.4-.4-.92-.59-1.43-.59-.52 0-1.04.2-1.43.59L10.3 9.45l-7.72 7.72c-.78.78-.78 2.05 0 2.83L4 21.41c.39.39.9.59 1.41.59.51 0 1.02-.2 1.41-.59l7.78-7.78 2.81-2.81c.8-.78.8-2.07 0-2.86zM5.41 20L4 18.59l7.72-7.72 1.47 1.35L5.41 20z\"/>\n",
              "  </svg>\n",
              "      </button>\n",
              "      \n",
              "  <style>\n",
              "    .colab-df-container {\n",
              "      display:flex;\n",
              "      flex-wrap:wrap;\n",
              "      gap: 12px;\n",
              "    }\n",
              "\n",
              "    .colab-df-convert {\n",
              "      background-color: #E8F0FE;\n",
              "      border: none;\n",
              "      border-radius: 50%;\n",
              "      cursor: pointer;\n",
              "      display: none;\n",
              "      fill: #1967D2;\n",
              "      height: 32px;\n",
              "      padding: 0 0 0 0;\n",
              "      width: 32px;\n",
              "    }\n",
              "\n",
              "    .colab-df-convert:hover {\n",
              "      background-color: #E2EBFA;\n",
              "      box-shadow: 0px 1px 2px rgba(60, 64, 67, 0.3), 0px 1px 3px 1px rgba(60, 64, 67, 0.15);\n",
              "      fill: #174EA6;\n",
              "    }\n",
              "\n",
              "    [theme=dark] .colab-df-convert {\n",
              "      background-color: #3B4455;\n",
              "      fill: #D2E3FC;\n",
              "    }\n",
              "\n",
              "    [theme=dark] .colab-df-convert:hover {\n",
              "      background-color: #434B5C;\n",
              "      box-shadow: 0px 1px 3px 1px rgba(0, 0, 0, 0.15);\n",
              "      filter: drop-shadow(0px 1px 2px rgba(0, 0, 0, 0.3));\n",
              "      fill: #FFFFFF;\n",
              "    }\n",
              "  </style>\n",
              "\n",
              "      <script>\n",
              "        const buttonEl =\n",
              "          document.querySelector('#df-a7f1f0d0-02d4-404a-9b08-fe8bed1b88ec button.colab-df-convert');\n",
              "        buttonEl.style.display =\n",
              "          google.colab.kernel.accessAllowed ? 'block' : 'none';\n",
              "\n",
              "        async function convertToInteractive(key) {\n",
              "          const element = document.querySelector('#df-a7f1f0d0-02d4-404a-9b08-fe8bed1b88ec');\n",
              "          const dataTable =\n",
              "            await google.colab.kernel.invokeFunction('convertToInteractive',\n",
              "                                                     [key], {});\n",
              "          if (!dataTable) return;\n",
              "\n",
              "          const docLinkHtml = 'Like what you see? Visit the ' +\n",
              "            '<a target=\"_blank\" href=https://colab.research.google.com/notebooks/data_table.ipynb>data table notebook</a>'\n",
              "            + ' to learn more about interactive tables.';\n",
              "          element.innerHTML = '';\n",
              "          dataTable['output_type'] = 'display_data';\n",
              "          await google.colab.output.renderOutput(dataTable, element);\n",
              "          const docLink = document.createElement('div');\n",
              "          docLink.innerHTML = docLinkHtml;\n",
              "          element.appendChild(docLink);\n",
              "        }\n",
              "      </script>\n",
              "    </div>\n",
              "  </div>\n",
              "  "
            ]
          },
          "metadata": {},
          "execution_count": 57
        }
      ]
    },
    {
      "cell_type": "code",
      "source": [
        "numerical_columns = x.columns[(x.dtypes == \"float64\") | (x.dtypes == \"int64\")]\n",
        "\n",
        "col_transf = make_column_transformer(\n",
        "    (StandardScaler(), numerical_columns),\n",
        ")"
      ],
      "metadata": {
        "id": "uRT2BtKUxhOj"
      },
      "execution_count": 47,
      "outputs": []
    },
    {
      "cell_type": "code",
      "source": [
        "col_transf"
      ],
      "metadata": {
        "colab": {
          "base_uri": "https://localhost:8080/"
        },
        "id": "y5i8iWW4DdrT",
        "outputId": "3a4d6423-6781-4515-c74a-31af96927c78"
      },
      "execution_count": 48,
      "outputs": [
        {
          "output_type": "execute_result",
          "data": {
            "text/plain": [
              "ColumnTransformer(transformers=[('standardscaler', StandardScaler(),\n",
              "                                 Index(['age', 'height', 'weight', 'systolic', 'relaxation', 'sugar',\n",
              "       'Cholesterol', 'triglyceride', 'HDL', 'LDL', 'hemoglobin',\n",
              "       'UrineProtein', 'Creatinine', 'AST', 'ALT', 'Gtp', 'Caries'],\n",
              "      dtype='object'))])"
            ]
          },
          "metadata": {},
          "execution_count": 48
        }
      ]
    },
    {
      "cell_type": "code",
      "source": [
        "x_train, x_val, y_train, y_val = train_test_split(x, y, random_state=2, train_size = 0.75)"
      ],
      "metadata": {
        "id": "W7glP3xhdx7j"
      },
      "execution_count": 49,
      "outputs": []
    },
    {
      "cell_type": "code",
      "source": [
        "modelos = []\n",
        "modelos.append((\"KNC\", KNeighborsClassifier()))\n",
        "modelos.append((\"RFC\", RandomForestClassifier()))\n",
        "modelos.append((\"SVC\", svm.SVC()))\n",
        "modelos.append((\"MLP\", MLPClassifier()))\n",
        "modelos.append((\"GNB\", GaussianNB()))"
      ],
      "metadata": {
        "id": "n3Z8ew1H1Jw1"
      },
      "execution_count": 50,
      "outputs": []
    },
    {
      "cell_type": "code",
      "source": [
        "pipelines  = {nombre: make_pipeline(col_transf, modelo) for nombre, modelo in modelos}"
      ],
      "metadata": {
        "id": "ZBCZMLD00oJT"
      },
      "execution_count": 51,
      "outputs": []
    },
    {
      "cell_type": "code",
      "source": [
        "results = []\n",
        "for name, pipeline in pipelines.items():\n",
        "\tcv_results = cross_val_score(pipeline, x_train, y_train, cv=5, scoring='accuracy', error_score='raise')\n",
        "\tresults.append({name: cv_results})"
      ],
      "metadata": {
        "colab": {
          "base_uri": "https://localhost:8080/"
        },
        "id": "24YgE6eUzHb8",
        "outputId": "f6a4ec8d-8355-4a18-af88-b23e122ba954"
      },
      "execution_count": 58,
      "outputs": [
        {
          "output_type": "stream",
          "name": "stderr",
          "text": [
            "/usr/local/lib/python3.8/dist-packages/sklearn/neural_network/_multilayer_perceptron.py:692: ConvergenceWarning: Stochastic Optimizer: Maximum iterations (200) reached and the optimization hasn't converged yet.\n",
            "  warnings.warn(\n",
            "/usr/local/lib/python3.8/dist-packages/sklearn/neural_network/_multilayer_perceptron.py:692: ConvergenceWarning: Stochastic Optimizer: Maximum iterations (200) reached and the optimization hasn't converged yet.\n",
            "  warnings.warn(\n",
            "/usr/local/lib/python3.8/dist-packages/sklearn/neural_network/_multilayer_perceptron.py:692: ConvergenceWarning: Stochastic Optimizer: Maximum iterations (200) reached and the optimization hasn't converged yet.\n",
            "  warnings.warn(\n",
            "/usr/local/lib/python3.8/dist-packages/sklearn/neural_network/_multilayer_perceptron.py:692: ConvergenceWarning: Stochastic Optimizer: Maximum iterations (200) reached and the optimization hasn't converged yet.\n",
            "  warnings.warn(\n",
            "/usr/local/lib/python3.8/dist-packages/sklearn/neural_network/_multilayer_perceptron.py:692: ConvergenceWarning: Stochastic Optimizer: Maximum iterations (200) reached and the optimization hasn't converged yet.\n",
            "  warnings.warn(\n"
          ]
        }
      ]
    },
    {
      "cell_type": "code",
      "source": [
        "results"
      ],
      "metadata": {
        "colab": {
          "base_uri": "https://localhost:8080/"
        },
        "id": "xSOtggUs6t9S",
        "outputId": "1c238f96-730d-4006-fcef-b5698d855f27"
      },
      "execution_count": 59,
      "outputs": [
        {
          "output_type": "execute_result",
          "data": {
            "text/plain": [
              "[{'KNC': array([0.706     , 0.69933333, 0.71066667, 0.71933333, 0.709     ])},\n",
              " {'RFC': array([0.77366667, 0.77266667, 0.76933333, 0.77533333, 0.767     ])},\n",
              " {'SVC': array([0.75133333, 0.73966667, 0.74266667, 0.76066667, 0.75466667])},\n",
              " {'MLP': array([0.745     , 0.74033333, 0.743     , 0.758     , 0.74333333])},\n",
              " {'GNB': array([0.66133333, 0.65366667, 0.66366667, 0.66666667, 0.66966667])}]"
            ]
          },
          "metadata": {},
          "execution_count": 59
        }
      ]
    },
    {
      "cell_type": "code",
      "source": [
        "best_model = sorted(results, key=lambda x: list(x.values())[0].mean(), reverse=True)[0]\n",
        "best_pipeline = pipelines[list(best_model.keys())[0]]"
      ],
      "metadata": {
        "id": "3CPsFMfH6yPX"
      },
      "execution_count": 60,
      "outputs": []
    },
    {
      "cell_type": "markdown",
      "source": [
        "# 5. Validación y testeo del modelo."
      ],
      "metadata": {
        "id": "xutYxUbouJbT"
      }
    },
    {
      "cell_type": "code",
      "source": [
        "best_pipeline.fit(x_train, y_train)\n",
        "best_pipeline.predict(x_val)"
      ],
      "metadata": {
        "colab": {
          "base_uri": "https://localhost:8080/"
        },
        "id": "FbPb5t2U68t1",
        "outputId": "30994999-3c2e-4211-c1eb-2a20a48ab55c"
      },
      "execution_count": 61,
      "outputs": [
        {
          "output_type": "execute_result",
          "data": {
            "text/plain": [
              "array([0, 0, 1, ..., 0, 1, 1])"
            ]
          },
          "metadata": {},
          "execution_count": 61
        }
      ]
    },
    {
      "cell_type": "code",
      "source": [
        "y_true = y_val\n",
        "y_pred = best_pipeline.predict(x_val)"
      ],
      "metadata": {
        "id": "IG9BLB6qs4Wl"
      },
      "execution_count": 62,
      "outputs": []
    },
    {
      "cell_type": "code",
      "source": [
        "cr = classification_report(y_true, y_pred)\n",
        "print(cr)"
      ],
      "metadata": {
        "colab": {
          "base_uri": "https://localhost:8080/"
        },
        "id": "kbQlXAx5tx8O",
        "outputId": "28b7a3a6-d1d2-442a-fd0e-f3a2a85a9260"
      },
      "execution_count": 63,
      "outputs": [
        {
          "output_type": "stream",
          "name": "stdout",
          "text": [
            "              precision    recall  f1-score   support\n",
            "\n",
            "           0       0.82      0.69      0.75      2433\n",
            "           1       0.74      0.85      0.79      2567\n",
            "\n",
            "    accuracy                           0.77      5000\n",
            "   macro avg       0.78      0.77      0.77      5000\n",
            "weighted avg       0.78      0.77      0.77      5000\n",
            "\n"
          ]
        }
      ]
    },
    {
      "cell_type": "code",
      "source": [
        "print(confusion_matrix(y_true, y_pred))"
      ],
      "metadata": {
        "colab": {
          "base_uri": "https://localhost:8080/"
        },
        "id": "k21x87M6uDoZ",
        "outputId": "594853bb-cc45-4679-9dcc-d3febd254871"
      },
      "execution_count": 64,
      "outputs": [
        {
          "output_type": "stream",
          "name": "stdout",
          "text": [
            "[[1681  752]\n",
            " [ 378 2189]]\n"
          ]
        }
      ]
    },
    {
      "cell_type": "markdown",
      "source": [
        "# 6. Despliegue del modelo y comprobación con data recién creada."
      ],
      "metadata": {
        "id": "I20WJkJnuWL3"
      }
    },
    {
      "cell_type": "code",
      "source": [
        "pickle.dump(best_pipeline, open('bp.pkl', mode = 'wb')) "
      ],
      "metadata": {
        "id": "MAC5gcKuzWmf"
      },
      "execution_count": 65,
      "outputs": []
    },
    {
      "cell_type": "code",
      "source": [
        "import pandas as pd\n",
        "import sklearn\n",
        "import pickle\n",
        "\n",
        "if __name__ == '__main__':\n",
        "  bp_mod = pickle.load(open('bp.pkl', mode = 'rb'))\n",
        "\n",
        "  print(\"Bienvenid@!\\n\\tDigita los datos del paciente...\\n\")\n",
        "  \n",
        "  edad = input('  Edad: ')\n",
        "  altura = input('  Altura(cm): ')\n",
        "  peso = input('  Peso(kg): ')\n",
        "  sys = input('  Presion sistolica: ')\n",
        "  sangre = input('  Relajacion o presion en sangre: ')\n",
        "  glucemia = input('  Glucosa en ayunas: ')\n",
        "  colesterol = input('  Colesterol total: ')\n",
        "  triglicelidos = input('  Triglicelidos: ')\n",
        "  hdl = input('  Colesterol bueno(HDL): ')\n",
        "  ldl = input('  Colesterol malo(LDL): ')\n",
        "  hemoglobina = input('  Hemoglobina: ')\n",
        "  proteina_orina = input('  Proteina en orina: ')\n",
        "  sc = input('  Creatinina Serica: ')\n",
        "  ast = input('  Aspartato Aminotransferasa(AST): ')\n",
        "  alt = input('  Alanina Aminotransferasa(ALT): ')\n",
        "  gtp = input('  Guanosina trisfosfato(GTP): ')\n",
        "  cd = input('  Caries Dentales: ')\n",
        "\n",
        "  a = pd.DataFrame([edad, altura, peso, sys, sangre, glucemia, colesterol, triglicelidos, hdl, ldl, hemoglobina, proteina_orina, sc, ast, alt, gtp, cd])\n",
        "  a = a.transpose().rename(columns={0:'age', 1:'height', 2:'weight', 3:'systolic', 4:'relaxation', 5:'sugar', 6:'Cholesterol', 7:'triglyceride', 8:'HDL', 9:'LDL', 10:'hemoglobin', 11:'UrineProtein', 12:'Creatinine', 13:'AST', 14:'ALT', 15:'Gtp', 16:'Caries'})\n",
        "\n",
        "  prediccion = bp_mod.predict(a)\n",
        "\n",
        "  if prediccion[0] == 1:\n",
        "    print(\"\\n\\tEl paciente es fumador \",prediccion[0])\n",
        "  else:\n",
        "    print(\"\\n\\tEl paciente no es fumador \",prediccion[0])"
      ],
      "metadata": {
        "colab": {
          "base_uri": "https://localhost:8080/"
        },
        "id": "UB-eCKXL0reQ",
        "outputId": "e4313b7d-7ea6-419a-b1ad-602aa10cd705"
      },
      "execution_count": null,
      "outputs": [
        {
          "output_type": "stream",
          "name": "stdout",
          "text": [
            "Bienvenid@!\n",
            "\tDigita los datos del paciente...\n",
            "\n",
            "  Edad: 20\n",
            "  Altura(cm): 174\n",
            "  Peso(kg): 90\n",
            "  Presion sistolica: 80\n",
            "  Relajacion o presion en sangre: 100\n",
            "  Glucosa en ayunas: 60\n",
            "  Colesterol total: 200\n",
            "  Triglicelidos: 160\n",
            "  Colesterol bueno(HDL): 70\n",
            "  Colesterol malo(LDL): 70\n",
            "  Hemoglobina: 15\n",
            "  Proteina en orina: 3\n",
            "  Creatinina Serica: 1.4\n",
            "  Aspartato Aminotransferasa(AST): 30\n",
            "  Alanina Aminotransferasa(ALT): 30\n",
            "  Guanosina trisfosfato(GTP): 30\n",
            "  Caries Dentales: 1\n",
            "\n",
            "\tEl paciente es fumador  1\n"
          ]
        }
      ]
    },
    {
      "cell_type": "code",
      "source": [
        "bp_mod"
      ],
      "metadata": {
        "colab": {
          "base_uri": "https://localhost:8080/"
        },
        "id": "yvGmFR5GHa7Z",
        "outputId": "ce0734e1-5e12-44ba-806b-c10814444cc6"
      },
      "execution_count": 82,
      "outputs": [
        {
          "output_type": "execute_result",
          "data": {
            "text/plain": [
              "Pipeline(steps=[('columntransformer',\n",
              "                 ColumnTransformer(remainder='passthrough',\n",
              "                                   transformers=[('standardscaler',\n",
              "                                                  StandardScaler(),\n",
              "                                                  Index(['age', 'height', 'weight', 'systolic', 'relaxation', 'sugar',\n",
              "       'Cholesterol', 'triglyceride', 'HDL', 'LDL', 'hemoglobin',\n",
              "       'UrineProtein', 'Creatinine', 'AST', 'ALT', 'Gtp', 'Caries'],\n",
              "      dtype='object'))])),\n",
              "                ('randomforestclassifier', RandomForestClassifier())])"
            ]
          },
          "metadata": {},
          "execution_count": 82
        }
      ]
    },
    {
      "cell_type": "code",
      "source": [
        "bp_mod[1].feature_importances_"
      ],
      "metadata": {
        "colab": {
          "base_uri": "https://localhost:8080/"
        },
        "id": "MyH8SA0lHcMI",
        "outputId": "ba8a87f2-4609-4ac1-ea8e-0e6ee605e2cf"
      },
      "execution_count": 83,
      "outputs": [
        {
          "output_type": "execute_result",
          "data": {
            "text/plain": [
              "array([0.04407627, 0.11648351, 0.05176017, 0.04818675, 0.04703316,\n",
              "       0.05154389, 0.05395464, 0.07146395, 0.05463896, 0.05376567,\n",
              "       0.13287303, 0.00465236, 0.04898384, 0.04651945, 0.05425479,\n",
              "       0.11054624, 0.00926332])"
            ]
          },
          "metadata": {},
          "execution_count": 83
        }
      ]
    }
  ]
}