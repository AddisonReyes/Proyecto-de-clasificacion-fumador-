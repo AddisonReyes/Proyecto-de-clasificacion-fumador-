import pandas as pd
import numpy as np
import pickle

if __name__ == '__main__':
  bp_mod = pickle.load(open('bp.pkl', mode = 'rb'))

  print("\n\nBienvenid@!\n\tDigita los datos del paciente...\n")
  
  edad = input('  Edad: ')
  altura = input('  Altura(cm): ')
  peso = input('  Peso(kg): ')
  sys = input('  Presion sistolica: ')
  sangre = input('  Relajacion o presion en sangre: ')
  glucemia = input('  Glucosa en ayunas: ')
  colesterol = input('  Colesterol total: ')
  triglicelidos = input('  Triglicelidos: ')
  hdl = input('  Colesterol bueno(HDL): ')
  ldl = input('  Colesterol malo(LDL): ')
  hemoglobina = input('  Hemoglobina: ')
  proteina_orina = input('  Proteina en orina: ')
  sc = input('  Creatinina Serica: ')
  ast = input('  Aspartato Aminotransferasa(AST): ')
  alt = input('  Alanina Aminotransferasa(ALT): ')
  gtp = input('  Guanosina trisfosfato(GTP): ')
  cd = input('  Caries Dentales: ')

  a = pd.DataFrame([edad, altura, peso, sys, sangre, glucemia, colesterol, triglicelidos, hdl, ldl, hemoglobina, proteina_orina, sc, ast, alt, gtp, cd])
  a = a.transpose().rename(columns={0:'age', 1:'height', 2:'weight', 3:'systolic', 4:'relaxation', 5:'sugar', 6:'Cholesterol', 7:'triglyceride', 8:'HDL', 9:'LDL', 10:'hemoglobin', 11:'UrineProtein', 12:'Creatinine', 13:'AST', 14:'ALT', 15:'Gtp', 16:'Caries'})

  prediccion = bp_mod.predict(a)

  if prediccion[0] == 1:
    print("\n\tEl paciente es fumador ",prediccion[0])
  else:
    print("\n\tEl paciente no es fumador ",prediccion[0])